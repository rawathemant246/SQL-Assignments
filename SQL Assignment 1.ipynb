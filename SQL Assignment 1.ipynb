{
 "cells": [
  {
   "cell_type": "markdown",
   "id": "d5d271a0",
   "metadata": {},
   "source": [
    "# Q-1. Write an SQL query to fetch “FIRST_NAME” from Worker table using the alias name as WORKER_NAME."
   ]
  },
  {
   "cell_type": "markdown",
   "id": "0c1914e8",
   "metadata": {},
   "source": [
    "SELECT FIRST_NAME AS WORKER_NAME\n",
    "FROM Worker;"
   ]
  },
  {
   "cell_type": "markdown",
   "id": "5c8cb338",
   "metadata": {},
   "source": [
    "# Q-2. Write an SQL query to fetch unique values of DEPARTMENT from Worker table."
   ]
  },
  {
   "cell_type": "markdown",
   "id": "07aaaabb",
   "metadata": {},
   "source": [
    "SELECT DISTINCT DEPARTMENT FROM Worker;"
   ]
  },
  {
   "cell_type": "markdown",
   "id": "20126367",
   "metadata": {},
   "source": [
    "# Q-3. Write an SQL query to show the last 5 record from a table."
   ]
  },
  {
   "cell_type": "markdown",
   "id": "21fa0edd",
   "metadata": {},
   "source": [
    "SELECT * FROM RECORD ORDER BY DESC LIMIT 5;"
   ]
  }
 ],
 "metadata": {
  "kernelspec": {
   "display_name": "Python 3 (ipykernel)",
   "language": "python",
   "name": "python3"
  },
  "language_info": {
   "codemirror_mode": {
    "name": "ipython",
    "version": 3
   },
   "file_extension": ".py",
   "mimetype": "text/x-python",
   "name": "python",
   "nbconvert_exporter": "python",
   "pygments_lexer": "ipython3",
   "version": "3.9.7"
  }
 },
 "nbformat": 4,
 "nbformat_minor": 5
}
