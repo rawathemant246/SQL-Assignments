{
 "cells": [
  {
   "cell_type": "markdown",
   "id": "0d1071c0",
   "metadata": {},
   "source": [
    "# Q-1. Write an SQL query to print details of the Workers who have joined in Feb’2014."
   ]
  },
  {
   "cell_type": "markdown",
   "id": "141c0947",
   "metadata": {},
   "source": [
    "SELECT * FROM WORKERS WHERE YEAR(JOINING_DATE) = 2014 AND MONTH(JOINING_DATE) = 2;"
   ]
  },
  {
   "cell_type": "markdown",
   "id": "92e96a4e",
   "metadata": {},
   "source": [
    "# Q-2. Write an SQL query to fetch duplicate records having matching data in some fields of a table."
   ]
  },
  {
   "cell_type": "markdown",
   "id": "33f3a64b",
   "metadata": {},
   "source": [
    "SELECT FIELD1,FIELD2,FIELD3,FIELD4, COUNT(*)\n",
    "FROM TABLE_NAME\n",
    "GROUP BY FIELD1,FIELD2,FIELD3,FIELD4\n",
    "HAVING COUNT(*)>1"
   ]
  },
  {
   "cell_type": "markdown",
   "id": "e2d4ad86",
   "metadata": {},
   "source": [
    "# Q-3. How to remove duplicate rows from Employees table."
   ]
  },
  {
   "cell_type": "markdown",
   "id": "be46faaf",
   "metadata": {},
   "source": [
    "DELETE S1 FROM student_contacts AS S1  \n",
    "INNER JOIN student_contacts AS S2   \n",
    "WHERE S1.id < S2.id AND S1.email = S2.email; "
   ]
  },
  {
   "cell_type": "code",
   "execution_count": null,
   "id": "7f98aa6a",
   "metadata": {},
   "outputs": [],
   "source": []
  }
 ],
 "metadata": {
  "kernelspec": {
   "display_name": "Python 3 (ipykernel)",
   "language": "python",
   "name": "python3"
  },
  "language_info": {
   "codemirror_mode": {
    "name": "ipython",
    "version": 3
   },
   "file_extension": ".py",
   "mimetype": "text/x-python",
   "name": "python",
   "nbconvert_exporter": "python",
   "pygments_lexer": "ipython3",
   "version": "3.9.7"
  }
 },
 "nbformat": 4,
 "nbformat_minor": 5
}
