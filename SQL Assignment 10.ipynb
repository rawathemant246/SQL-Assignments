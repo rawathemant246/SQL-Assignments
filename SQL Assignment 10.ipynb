{
 "cells": [
  {
   "cell_type": "markdown",
   "id": "7661dbcc",
   "metadata": {},
   "source": [
    "# Q-19. Write an SQL query to determine the 5th highest salary without using TOP or limit method."
   ]
  },
  {
   "cell_type": "markdown",
   "id": "7b0ad6a3",
   "metadata": {},
   "source": [
    "SELECT DISTINCT column_name FROM table_name ORDER BY column_name DESC LIMIT 4,1;"
   ]
  },
  {
   "cell_type": "markdown",
   "id": "92493b5f",
   "metadata": {},
   "source": [
    "# Q-20. Write an SQL query to fetch the list of employees with the same salary."
   ]
  },
  {
   "cell_type": "markdown",
   "id": "82388c29",
   "metadata": {},
   "source": [
    "SELECT Name\n",
    "FROM table1 \n",
    "WHERE Salary IN (\n",
    "    SELECT Salary\n",
    "    FROM table1\n",
    "    GROUP BY Salary\n",
    "    HAVING COUNT(*) > 1\n",
    ")"
   ]
  },
  {
   "cell_type": "code",
   "execution_count": null,
   "id": "f103255e",
   "metadata": {},
   "outputs": [],
   "source": []
  }
 ],
 "metadata": {
  "kernelspec": {
   "display_name": "Python 3 (ipykernel)",
   "language": "python",
   "name": "python3"
  },
  "language_info": {
   "codemirror_mode": {
    "name": "ipython",
    "version": 3
   },
   "file_extension": ".py",
   "mimetype": "text/x-python",
   "name": "python",
   "nbconvert_exporter": "python",
   "pygments_lexer": "ipython3",
   "version": "3.9.7"
  }
 },
 "nbformat": 4,
 "nbformat_minor": 5
}
