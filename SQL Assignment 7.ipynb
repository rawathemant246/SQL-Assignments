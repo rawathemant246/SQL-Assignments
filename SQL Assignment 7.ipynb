{
 "cells": [
  {
   "cell_type": "markdown",
   "id": "afcdfdd0",
   "metadata": {},
   "source": [
    "# Q-13. Write an SQL query to show only odd rows from a table."
   ]
  },
  {
   "cell_type": "markdown",
   "id": "98d7e34f",
   "metadata": {},
   "source": [
    "SELECT * FROM TABLE_NAME WHERE MOD(ROW_NUMBER,2)=1;"
   ]
  },
  {
   "cell_type": "markdown",
   "id": "ac549495",
   "metadata": {},
   "source": [
    "# Q-14. Write an SQL query to clone a new table from another table."
   ]
  },
  {
   "cell_type": "markdown",
   "id": "5376b325",
   "metadata": {},
   "source": [
    "The general query to clone a table with data is:\n",
    "\n",
    "SELECT * INTO WorkerClone FROM Worker;\n",
    "\n",
    "The general way to clone a table without information is:\n",
    "\n",
    "SELECT * INTO WorkerClone FROM Worker WHERE 1 = 0;\n",
    "\n",
    "An alternate way to clone a table (for MySQL) without is:\n",
    "\n",
    "CREATE TABLE WorkerClone LIKE Worker;"
   ]
  },
  {
   "cell_type": "code",
   "execution_count": null,
   "id": "d7740e9d",
   "metadata": {},
   "outputs": [],
   "source": []
  }
 ],
 "metadata": {
  "kernelspec": {
   "display_name": "Python 3 (ipykernel)",
   "language": "python",
   "name": "python3"
  },
  "language_info": {
   "codemirror_mode": {
    "name": "ipython",
    "version": 3
   },
   "file_extension": ".py",
   "mimetype": "text/x-python",
   "name": "python",
   "nbconvert_exporter": "python",
   "pygments_lexer": "ipython3",
   "version": "3.9.7"
  }
 },
 "nbformat": 4,
 "nbformat_minor": 5
}
