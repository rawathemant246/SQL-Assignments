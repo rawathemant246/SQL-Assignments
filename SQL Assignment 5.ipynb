{
 "cells": [
  {
   "cell_type": "markdown",
   "id": "1bf5c582",
   "metadata": {},
   "source": [
    "# Q-1. Write an SQL query to print details of workers excluding first names, “Vipul” and “Satish” from Worker table."
   ]
  },
  {
   "cell_type": "markdown",
   "id": "afe5ce9c",
   "metadata": {},
   "source": [
    "SELECT * FROM WORKERS WHERE FIRST_NAME IN ('VIPUL','SATISH');"
   ]
  },
  {
   "cell_type": "markdown",
   "id": "604a535f",
   "metadata": {},
   "source": [
    "# Q-2. Write an SQL query to print details of the Workers whose FIRST_NAME ends with ‘h’ and contains six alphabets."
   ]
  },
  {
   "cell_type": "markdown",
   "id": "c5c5f419",
   "metadata": {},
   "source": [
    "SELECT * FROM WORKERS WHERE FIRST_NAME LIKE '_____h';"
   ]
  },
  {
   "cell_type": "markdown",
   "id": "93c30f79",
   "metadata": {},
   "source": [
    "# Q-3. Write a query to validate Email of Employee."
   ]
  },
  {
   "cell_type": "markdown",
   "id": "d03e2e41",
   "metadata": {},
   "source": [
    "SELECT * FROM EMPLOYEE WHERE EMIAL LIKE '%@gmail.com';"
   ]
  },
  {
   "cell_type": "code",
   "execution_count": null,
   "id": "d354b1eb",
   "metadata": {},
   "outputs": [],
   "source": []
  }
 ],
 "metadata": {
  "kernelspec": {
   "display_name": "Python 3 (ipykernel)",
   "language": "python",
   "name": "python3"
  },
  "language_info": {
   "codemirror_mode": {
    "name": "ipython",
    "version": 3
   },
   "file_extension": ".py",
   "mimetype": "text/x-python",
   "name": "python",
   "nbconvert_exporter": "python",
   "pygments_lexer": "ipython3",
   "version": "3.9.7"
  }
 },
 "nbformat": 4,
 "nbformat_minor": 5
}
