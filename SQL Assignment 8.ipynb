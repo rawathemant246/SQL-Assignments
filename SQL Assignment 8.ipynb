{
 "cells": [
  {
   "cell_type": "markdown",
   "id": "5b9a92dc",
   "metadata": {},
   "source": [
    "# Q-15. Write an SQL query to fetch intersecting records of two tables."
   ]
  },
  {
   "cell_type": "markdown",
   "id": "1b603b10",
   "metadata": {},
   "source": [
    "SELECT ID, NAME,AMOUNT,DATE\n",
    "FROM CUSTOMERS\n",
    "LEFT JOIN ORDERS\n",
    "ON CUSTOMER.ID = ORDERS.CUSTOMER_ID\n",
    "\n",
    "INTERSECT\n",
    "\n",
    "SELECT ID, NAME, AMOUNT, DATE\n",
    "FROM CUSTOMERS\n",
    "RIGHT JOIN ORDERS\n",
    "ON CUSTOMER.ID = ORDERS.CUSTOMER_ID;\n",
    "\n"
   ]
  },
  {
   "cell_type": "markdown",
   "id": "3d9b217f",
   "metadata": {},
   "source": [
    "# Q-16. Write an SQL query to show records from one table that another table does not have."
   ]
  },
  {
   "cell_type": "markdown",
   "id": "c7fc832e",
   "metadata": {},
   "source": [
    "SELECT name\n",
    "FROM table2\n",
    "WHERE name NOT IN\n",
    "    (SELECT name \n",
    "     FROM table1)"
   ]
  },
  {
   "cell_type": "code",
   "execution_count": null,
   "id": "b1746bd1",
   "metadata": {},
   "outputs": [],
   "source": []
  }
 ],
 "metadata": {
  "kernelspec": {
   "display_name": "Python 3 (ipykernel)",
   "language": "python",
   "name": "python3"
  },
  "language_info": {
   "codemirror_mode": {
    "name": "ipython",
    "version": 3
   },
   "file_extension": ".py",
   "mimetype": "text/x-python",
   "name": "python",
   "nbconvert_exporter": "python",
   "pygments_lexer": "ipython3",
   "version": "3.9.7"
  }
 },
 "nbformat": 4,
 "nbformat_minor": 5
}
