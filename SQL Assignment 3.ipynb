{
 "cells": [
  {
   "cell_type": "markdown",
   "id": "ba170cf8",
   "metadata": {},
   "source": [
    "# Q-1. Write an SQL query to print the FIRST_NAME from Worker table after removing white spaces from the right side."
   ]
  },
  {
   "cell_type": "markdown",
   "id": "8fb68be9",
   "metadata": {},
   "source": [
    "SELECT RTRIM(FIRST_NAME) FROM WORKER;"
   ]
  },
  {
   "cell_type": "markdown",
   "id": "b4f28409",
   "metadata": {},
   "source": [
    "# Q-2. Write an SQL query that fetches the unique values of DEPARTMENT from Worker table and prints its length."
   ]
  },
  {
   "cell_type": "markdown",
   "id": "accd52ab",
   "metadata": {},
   "source": [
    "SELECT LENGTH(DISTINCT (DEPARTMENT)) FROM WORKER;"
   ]
  },
  {
   "cell_type": "markdown",
   "id": "366a5c4c",
   "metadata": {},
   "source": [
    "# Q-3. Write an SQL query to fetch nth max salaries from a table."
   ]
  },
  {
   "cell_type": "markdown",
   "id": "047ef228",
   "metadata": {},
   "source": [
    "SELECT SALARY FROM EMPLOYEE ORDER BY SALARY DESC LIMIT N-1,1"
   ]
  },
  {
   "cell_type": "code",
   "execution_count": null,
   "id": "600c2169",
   "metadata": {},
   "outputs": [],
   "source": []
  }
 ],
 "metadata": {
  "kernelspec": {
   "display_name": "Python 3 (ipykernel)",
   "language": "python",
   "name": "python3"
  },
  "language_info": {
   "codemirror_mode": {
    "name": "ipython",
    "version": 3
   },
   "file_extension": ".py",
   "mimetype": "text/x-python",
   "name": "python",
   "nbconvert_exporter": "python",
   "pygments_lexer": "ipython3",
   "version": "3.9.7"
  }
 },
 "nbformat": 4,
 "nbformat_minor": 5
}
