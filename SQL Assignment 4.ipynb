{
 "cells": [
  {
   "cell_type": "markdown",
   "id": "013da85c",
   "metadata": {},
   "source": [
    "# Q-1. Write an SQL query to print the FIRST_NAME from Worker table after replacing ‘a’ with ‘A’."
   ]
  },
  {
   "cell_type": "markdown",
   "id": "27ef5c81",
   "metadata": {},
   "source": [
    "SELECT REPLACE(FIRST_NAME, 'a','A') FROM WORKER;"
   ]
  },
  {
   "cell_type": "markdown",
   "id": "3961603c",
   "metadata": {},
   "source": [
    "# Q-2. Write an SQL query to print all Worker details from the Worker table order by FIRST_NAME Ascending and DEPARTMENT Descending."
   ]
  },
  {
   "cell_type": "markdown",
   "id": "09279453",
   "metadata": {},
   "source": [
    "SELECT * WORKER AS W   ORDER BY W.FIRST_NAME ASC,  ORDER BY W.DEPARTMENT DESC;"
   ]
  },
  {
   "cell_type": "markdown",
   "id": "792a3efb",
   "metadata": {},
   "source": [
    "# Q-3. Write an SQL query to fetch the names of workers who earn the highest salary."
   ]
  },
  {
   "cell_type": "markdown",
   "id": "e48bc517",
   "metadata": {},
   "source": [
    "SELECT * FROM WORKER WHERE SALARY = (SELECT(MAX(SALARY)) FROM WORKER); "
   ]
  },
  {
   "cell_type": "code",
   "execution_count": null,
   "id": "ab2f1181",
   "metadata": {},
   "outputs": [],
   "source": []
  }
 ],
 "metadata": {
  "kernelspec": {
   "display_name": "Python 3 (ipykernel)",
   "language": "python",
   "name": "python3"
  },
  "language_info": {
   "codemirror_mode": {
    "name": "ipython",
    "version": 3
   },
   "file_extension": ".py",
   "mimetype": "text/x-python",
   "name": "python",
   "nbconvert_exporter": "python",
   "pygments_lexer": "ipython3",
   "version": "3.9.7"
  }
 },
 "nbformat": 4,
 "nbformat_minor": 5
}
